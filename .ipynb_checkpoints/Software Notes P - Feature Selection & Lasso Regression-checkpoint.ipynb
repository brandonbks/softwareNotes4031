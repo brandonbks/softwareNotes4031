{
 "cells": [
  {
   "cell_type": "markdown",
   "metadata": {},
   "source": [
    "# Software Notes 5 - Feature Selection & Lasso Regression"
   ]
  },
  {
   "cell_type": "markdown",
   "metadata": {},
   "source": [
    "Prepared for ISyE 4031 <br>\n",
    "Brandon Kang <br>\n",
    "brandonkang@gatech.edu"
   ]
  },
  {
   "cell_type": "code",
   "execution_count": 1,
   "metadata": {
    "ExecuteTime": {
     "end_time": "2020-03-05T03:04:34.343940Z",
     "start_time": "2020-03-05T03:04:31.679476Z"
    }
   },
   "outputs": [],
   "source": [
    "import pandas as pd\n",
    "import numpy as np\n",
    "import matplotlib.pyplot as plt\n",
    "import seaborn as sns\n",
    "from jupyterthemes import jtplot\n",
    "from sklearn.feature_selection import SelectKBest, f_regression, mutual_info_regression, RFECV\n",
    "from sklearn.model_selection import train_test_split, StratifiedKFold\n",
    "from sklearn.linear_model import LinearRegression, LassoCV\n",
    "from sklearn.preprocessing import StandardScaler\n",
    "jtplot.style(theme='onedork')"
   ]
  },
  {
   "cell_type": "markdown",
   "metadata": {},
   "source": [
    "## IMPORTANT NOTE"
   ]
  },
  {
   "cell_type": "markdown",
   "metadata": {},
   "source": [
    "**NOTE** StatsModels and Sci-Kit Learn both do *NOT* support stepwise, backwards, or best subsets regression, which are required for the course. In order to perform these methods, you would have to implement your own function to accomplish these tasks. Therefore, for the purpose of your projects/homeworks, please use an alternative software (R/Minitab/JMP) in order to perform the required screening techniques. There are some code lurking out there that does implement these screening techniques in Python, but these software notes will be going into some alternative methods that you can perform to screen for features. Use these software notes as supplementary material for your project and your future data science project endeavors. I also highly encourage you to go through this powerpoint to understand why feature selection is important!"
   ]
  },
  {
   "cell_type": "code",
   "execution_count": 2,
   "metadata": {
    "ExecuteTime": {
     "end_time": "2020-03-05T03:04:34.408748Z",
     "start_time": "2020-03-05T03:04:34.346138Z"
    }
   },
   "outputs": [],
   "source": [
    "dfHouses = pd.read_csv(\"houseData.csv\", index_col=0)\n",
    "features = list(dfHouses.columns.drop(\"price\"))\n",
    "X = dfHouses[features]\n",
    "y = dfHouses[\"price\"]\n",
    "X_train, X_test, y_train, y_test = train_test_split(X, y, test_size=0.3, shuffle=True, random_state=42)"
   ]
  },
  {
   "cell_type": "code",
   "execution_count": 3,
   "metadata": {
    "ExecuteTime": {
     "end_time": "2020-03-05T03:04:34.438212Z",
     "start_time": "2020-03-05T03:04:34.413343Z"
    }
   },
   "outputs": [
    {
     "data": {
      "text/html": [
       "<div>\n",
       "<style scoped>\n",
       "    .dataframe tbody tr th:only-of-type {\n",
       "        vertical-align: middle;\n",
       "    }\n",
       "\n",
       "    .dataframe tbody tr th {\n",
       "        vertical-align: top;\n",
       "    }\n",
       "\n",
       "    .dataframe thead th {\n",
       "        text-align: right;\n",
       "    }\n",
       "</style>\n",
       "<table border=\"1\" class=\"dataframe\">\n",
       "  <thead>\n",
       "    <tr style=\"text-align: right;\">\n",
       "      <th></th>\n",
       "      <th>bedrooms</th>\n",
       "      <th>bathrooms</th>\n",
       "      <th>sqft_living</th>\n",
       "      <th>sqft_lot</th>\n",
       "      <th>floors</th>\n",
       "      <th>waterfront</th>\n",
       "      <th>view</th>\n",
       "      <th>sqft_above</th>\n",
       "      <th>sqft_basement</th>\n",
       "    </tr>\n",
       "    <tr>\n",
       "      <th>id</th>\n",
       "      <th></th>\n",
       "      <th></th>\n",
       "      <th></th>\n",
       "      <th></th>\n",
       "      <th></th>\n",
       "      <th></th>\n",
       "      <th></th>\n",
       "      <th></th>\n",
       "      <th></th>\n",
       "    </tr>\n",
       "  </thead>\n",
       "  <tbody>\n",
       "    <tr>\n",
       "      <th>1836980160</th>\n",
       "      <td>4</td>\n",
       "      <td>2.50</td>\n",
       "      <td>2680</td>\n",
       "      <td>4499</td>\n",
       "      <td>2.0</td>\n",
       "      <td>0</td>\n",
       "      <td>0</td>\n",
       "      <td>2680</td>\n",
       "      <td>0</td>\n",
       "    </tr>\n",
       "    <tr>\n",
       "      <th>9221400335</th>\n",
       "      <td>4</td>\n",
       "      <td>1.75</td>\n",
       "      <td>2340</td>\n",
       "      <td>5080</td>\n",
       "      <td>1.0</td>\n",
       "      <td>0</td>\n",
       "      <td>0</td>\n",
       "      <td>1170</td>\n",
       "      <td>1170</td>\n",
       "    </tr>\n",
       "    <tr>\n",
       "      <th>6669020490</th>\n",
       "      <td>4</td>\n",
       "      <td>2.25</td>\n",
       "      <td>2190</td>\n",
       "      <td>9020</td>\n",
       "      <td>2.0</td>\n",
       "      <td>0</td>\n",
       "      <td>0</td>\n",
       "      <td>2190</td>\n",
       "      <td>0</td>\n",
       "    </tr>\n",
       "    <tr>\n",
       "      <th>2025079045</th>\n",
       "      <td>2</td>\n",
       "      <td>1.75</td>\n",
       "      <td>2260</td>\n",
       "      <td>280962</td>\n",
       "      <td>2.0</td>\n",
       "      <td>0</td>\n",
       "      <td>2</td>\n",
       "      <td>1890</td>\n",
       "      <td>370</td>\n",
       "    </tr>\n",
       "    <tr>\n",
       "      <th>1525069058</th>\n",
       "      <td>4</td>\n",
       "      <td>1.75</td>\n",
       "      <td>2110</td>\n",
       "      <td>265716</td>\n",
       "      <td>1.0</td>\n",
       "      <td>0</td>\n",
       "      <td>0</td>\n",
       "      <td>2110</td>\n",
       "      <td>0</td>\n",
       "    </tr>\n",
       "  </tbody>\n",
       "</table>\n",
       "</div>"
      ],
      "text/plain": [
       "            bedrooms  bathrooms  sqft_living  sqft_lot  floors  waterfront  \\\n",
       "id                                                                           \n",
       "1836980160         4       2.50         2680      4499     2.0           0   \n",
       "9221400335         4       1.75         2340      5080     1.0           0   \n",
       "6669020490         4       2.25         2190      9020     2.0           0   \n",
       "2025079045         2       1.75         2260    280962     2.0           0   \n",
       "1525069058         4       1.75         2110    265716     1.0           0   \n",
       "\n",
       "            view  sqft_above  sqft_basement  \n",
       "id                                           \n",
       "1836980160     0        2680              0  \n",
       "9221400335     0        1170           1170  \n",
       "6669020490     0        2190              0  \n",
       "2025079045     2        1890            370  \n",
       "1525069058     0        2110              0  "
      ]
     },
     "execution_count": 3,
     "metadata": {},
     "output_type": "execute_result"
    }
   ],
   "source": [
    "X_train.head()"
   ]
  },
  {
   "cell_type": "markdown",
   "metadata": {},
   "source": [
    "**NOTE** Up until this point, I have not been splitting my datasets into training and testing since we have not reviewed some data preprocessing/cross validation concepts. Now that these software notes are up, we will be splitting our datasets into training/testing. For details in data preprocessing and cross validation, please refer to <a href=\"https://brandonbks.github.io/static/concepts.pdf\">here</a>!"
   ]
  },
  {
   "cell_type": "code",
   "execution_count": 4,
   "metadata": {
    "ExecuteTime": {
     "end_time": "2020-03-05T03:04:34.451937Z",
     "start_time": "2020-03-05T03:04:34.442620Z"
    }
   },
   "outputs": [
    {
     "data": {
      "text/plain": [
       "price            float64\n",
       "bedrooms           int64\n",
       "bathrooms        float64\n",
       "sqft_living        int64\n",
       "sqft_lot           int64\n",
       "floors           float64\n",
       "waterfront         int64\n",
       "view               int64\n",
       "sqft_above         int64\n",
       "sqft_basement      int64\n",
       "dtype: object"
      ]
     },
     "execution_count": 4,
     "metadata": {},
     "output_type": "execute_result"
    }
   ],
   "source": [
    "dfHouses.dtypes"
   ]
  },
  {
   "cell_type": "markdown",
   "metadata": {},
   "source": [
    "Note that there are two binary features (waterfront and view)"
   ]
  },
  {
   "cell_type": "markdown",
   "metadata": {
    "ExecuteTime": {
     "end_time": "2020-02-11T20:31:41.738233Z",
     "start_time": "2020-02-11T20:31:41.733475Z"
    }
   },
   "source": [
    "## Correlation Checks"
   ]
  },
  {
   "cell_type": "code",
   "execution_count": 5,
   "metadata": {
    "ExecuteTime": {
     "end_time": "2020-03-05T03:04:35.442303Z",
     "start_time": "2020-03-05T03:04:34.455279Z"
    }
   },
   "outputs": [
    {
     "data": {
      "text/plain": [
       "Text(0.5, 1, 'Correlation Check')"
      ]
     },
     "execution_count": 5,
     "metadata": {},
     "output_type": "execute_result"
    },
    {
     "data": {
      "image/png": "[encoded data removed]",
      "text/plain": [
       "<Figure size 1080x576 with 2 Axes>"
      ]
     },
     "metadata": {},
     "output_type": "display_data"
    }
   ],
   "source": [
    "corr = X_train.corr()\n",
    "mask = np.zeros_like(corr)\n",
    "mask[np.triu_indices_from(mask)] = True\n",
    "np.fill_diagonal(mask, 0)\n",
    "\n",
    "fig, ax = plt.subplots(figsize=(15, 8))\n",
    "ax = sns.heatmap(corr, annot=True, mask=mask, cmap=\"YlGnBu\")\n",
    "plt.title(\"Correlation Check\")"
   ]
  },
  {
   "cell_type": "markdown",
   "metadata": {},
   "source": [
    "It's important to check pairwise correlations between features (as well as VIF) when running your models. We'll go into VIF in a later software notes, but we need to check correlations and VIF values in order to assess multicollinearity. As mentioned in the previous software notes, models with high multicollinearity may result in biased results, and in some cases, the matrix for solving for optimal parameters may be invertible. Any pairwise correlations above 0.8 or so may be worth noting, and if you see unusually high pairwise correlations, it may be a good idea to combine the features or remove one. Ridge regression or using PCA may also be an alternative if your model is suffering from multicollinearity.\n",
    "<br>\n",
    "*Note:* Why did I include only one triangular region?"
   ]
  },
  {
   "cell_type": "markdown",
   "metadata": {},
   "source": [
    "## F-Test"
   ]
  },
  {
   "cell_type": "code",
   "execution_count": 6,
   "metadata": {
    "ExecuteTime": {
     "end_time": "2020-03-05T03:04:35.471367Z",
     "start_time": "2020-03-05T03:04:35.445804Z"
    }
   },
   "outputs": [],
   "source": [
    "selector = SelectKBest(f_regression, k=\"all\").fit(X_train, y_train) #You can modify the k parameter to retain the k best \n",
    "pVal = selector.pvalues_ #obtain p-value from F statistic\n",
    "mapPVal = list(zip(pVal, X.columns)) #map column to its p-value\n",
    "dfPVal = pd.Series({i[1]: i[0] for i in mapPVal}).reset_index().rename({\"index\": \"feature\", 0: \"p-value\"}, axis=1)"
   ]
  },
  {
   "cell_type": "code",
   "execution_count": 7,
   "metadata": {
    "ExecuteTime": {
     "end_time": "2020-03-05T03:04:35.503032Z",
     "start_time": "2020-03-05T03:04:35.476930Z"
    }
   },
   "outputs": [
    {
     "data": {
      "text/html": [
       "<div>\n",
       "<style scoped>\n",
       "    .dataframe tbody tr th:only-of-type {\n",
       "        vertical-align: middle;\n",
       "    }\n",
       "\n",
       "    .dataframe tbody tr th {\n",
       "        vertical-align: top;\n",
       "    }\n",
       "\n",
       "    .dataframe thead th {\n",
       "        text-align: right;\n",
       "    }\n",
       "</style>\n",
       "<table border=\"1\" class=\"dataframe\">\n",
       "  <thead>\n",
       "    <tr style=\"text-align: right;\">\n",
       "      <th></th>\n",
       "      <th>feature</th>\n",
       "      <th>p-value</th>\n",
       "      <th>rank</th>\n",
       "    </tr>\n",
       "  </thead>\n",
       "  <tbody>\n",
       "    <tr>\n",
       "      <th>0</th>\n",
       "      <td>bedrooms</td>\n",
       "      <td>0.000000e+00</td>\n",
       "      <td>1</td>\n",
       "    </tr>\n",
       "    <tr>\n",
       "      <th>1</th>\n",
       "      <td>bathrooms</td>\n",
       "      <td>0.000000e+00</td>\n",
       "      <td>2</td>\n",
       "    </tr>\n",
       "    <tr>\n",
       "      <th>2</th>\n",
       "      <td>sqft_living</td>\n",
       "      <td>0.000000e+00</td>\n",
       "      <td>3</td>\n",
       "    </tr>\n",
       "    <tr>\n",
       "      <th>6</th>\n",
       "      <td>view</td>\n",
       "      <td>0.000000e+00</td>\n",
       "      <td>4</td>\n",
       "    </tr>\n",
       "    <tr>\n",
       "      <th>7</th>\n",
       "      <td>sqft_above</td>\n",
       "      <td>0.000000e+00</td>\n",
       "      <td>5</td>\n",
       "    </tr>\n",
       "    <tr>\n",
       "      <th>8</th>\n",
       "      <td>sqft_basement</td>\n",
       "      <td>0.000000e+00</td>\n",
       "      <td>6</td>\n",
       "    </tr>\n",
       "    <tr>\n",
       "      <th>4</th>\n",
       "      <td>floors</td>\n",
       "      <td>4.303223e-220</td>\n",
       "      <td>7</td>\n",
       "    </tr>\n",
       "    <tr>\n",
       "      <th>5</th>\n",
       "      <td>waterfront</td>\n",
       "      <td>6.013830e-205</td>\n",
       "      <td>8</td>\n",
       "    </tr>\n",
       "    <tr>\n",
       "      <th>3</th>\n",
       "      <td>sqft_lot</td>\n",
       "      <td>1.332256e-29</td>\n",
       "      <td>9</td>\n",
       "    </tr>\n",
       "  </tbody>\n",
       "</table>\n",
       "</div>"
      ],
      "text/plain": [
       "         feature        p-value  rank\n",
       "0       bedrooms   0.000000e+00     1\n",
       "1      bathrooms   0.000000e+00     2\n",
       "2    sqft_living   0.000000e+00     3\n",
       "6           view   0.000000e+00     4\n",
       "7     sqft_above   0.000000e+00     5\n",
       "8  sqft_basement   0.000000e+00     6\n",
       "4         floors  4.303223e-220     7\n",
       "5     waterfront  6.013830e-205     8\n",
       "3       sqft_lot   1.332256e-29     9"
      ]
     },
     "execution_count": 7,
     "metadata": {},
     "output_type": "execute_result"
    }
   ],
   "source": [
    "dfPVal = dfPVal.sort_values(\"p-value\", ascending=True)\n",
    "dfPVal['rank'] = np.arange(len(dfPVal))+1\n",
    "dfPVal"
   ]
  },
  {
   "cell_type": "markdown",
   "metadata": {},
   "source": [
    "F-Test in Sci-Kit Learn's feature selection module essentially does a hypothesis testing against your ground truth, y, and one feature at a time. For example, it will run price~bedrooms, obtain the respective p-value and F score in order to determine if the relationship is significant. However, this particular method can be somewhat problematic, as it only captures *linear* dependencies. There may exist a nonlinear relationship, so this method will not be able to capture that.\n",
    "<br>\n",
    "<br>\n",
    "I wrapped this function with SelectKBest which will essentially select the \"K\" best features based on their scores. In this software note, I just returned all for your viewing, but you can adjust this parameter as you like. "
   ]
  },
  {
   "cell_type": "markdown",
   "metadata": {},
   "source": [
    "## Mutual Information"
   ]
  },
  {
   "cell_type": "code",
   "execution_count": 8,
   "metadata": {
    "ExecuteTime": {
     "end_time": "2020-03-05T03:05:38.253591Z",
     "start_time": "2020-03-05T03:04:35.511028Z"
    }
   },
   "outputs": [],
   "source": [
    "dfTotalScores = pd.Series(X.columns).reset_index().rename({0: \"feature\"}, axis=1)\n",
    "dfTotalScores = dfTotalScores.drop(\"index\", axis=1)\n",
    "for n in range(2, 6):\n",
    "    scores = mutual_info_regression(X_train, y_train, n_neighbors=n)\n",
    "    mapScores = list(zip(scores, X.columns))\n",
    "    dfScores = pd.Series({i[1]: i[0] for i in mapScores}).reset_index()\\\n",
    "                                                        .rename({\"index\": \"feature\", 0: \"scores\"+str(n)}, axis=1)\n",
    "    dfTotalScores = dfTotalScores.merge(dfScores, on=\"feature\")\n",
    "dfTotalScores = dfTotalScores.set_index(\"feature\")\n",
    "dfTotalScores[\"average\"] = dfTotalScores.mean(axis = 1)"
   ]
  },
  {
   "cell_type": "code",
   "execution_count": 9,
   "metadata": {
    "ExecuteTime": {
     "end_time": "2020-03-05T03:05:38.275857Z",
     "start_time": "2020-03-05T03:05:38.256576Z"
    }
   },
   "outputs": [
    {
     "data": {
      "text/html": [
       "<div>\n",
       "<style scoped>\n",
       "    .dataframe tbody tr th:only-of-type {\n",
       "        vertical-align: middle;\n",
       "    }\n",
       "\n",
       "    .dataframe tbody tr th {\n",
       "        vertical-align: top;\n",
       "    }\n",
       "\n",
       "    .dataframe thead th {\n",
       "        text-align: right;\n",
       "    }\n",
       "</style>\n",
       "<table border=\"1\" class=\"dataframe\">\n",
       "  <thead>\n",
       "    <tr style=\"text-align: right;\">\n",
       "      <th></th>\n",
       "      <th>scores2</th>\n",
       "      <th>scores3</th>\n",
       "      <th>scores4</th>\n",
       "      <th>scores5</th>\n",
       "      <th>average</th>\n",
       "      <th>rank</th>\n",
       "    </tr>\n",
       "    <tr>\n",
       "      <th>feature</th>\n",
       "      <th></th>\n",
       "      <th></th>\n",
       "      <th></th>\n",
       "      <th></th>\n",
       "      <th></th>\n",
       "      <th></th>\n",
       "    </tr>\n",
       "  </thead>\n",
       "  <tbody>\n",
       "    <tr>\n",
       "      <th>sqft_living</th>\n",
       "      <td>0.363666</td>\n",
       "      <td>0.347219</td>\n",
       "      <td>0.348649</td>\n",
       "      <td>0.345850</td>\n",
       "      <td>0.351346</td>\n",
       "      <td>1</td>\n",
       "    </tr>\n",
       "    <tr>\n",
       "      <th>sqft_above</th>\n",
       "      <td>0.267201</td>\n",
       "      <td>0.257956</td>\n",
       "      <td>0.254658</td>\n",
       "      <td>0.253678</td>\n",
       "      <td>0.258373</td>\n",
       "      <td>2</td>\n",
       "    </tr>\n",
       "    <tr>\n",
       "      <th>bathrooms</th>\n",
       "      <td>0.216759</td>\n",
       "      <td>0.212257</td>\n",
       "      <td>0.203334</td>\n",
       "      <td>0.208796</td>\n",
       "      <td>0.210287</td>\n",
       "      <td>3</td>\n",
       "    </tr>\n",
       "    <tr>\n",
       "      <th>floors</th>\n",
       "      <td>0.081687</td>\n",
       "      <td>0.081788</td>\n",
       "      <td>0.076211</td>\n",
       "      <td>0.072731</td>\n",
       "      <td>0.078104</td>\n",
       "      <td>4</td>\n",
       "    </tr>\n",
       "    <tr>\n",
       "      <th>bedrooms</th>\n",
       "      <td>0.079127</td>\n",
       "      <td>0.064693</td>\n",
       "      <td>0.071998</td>\n",
       "      <td>0.082188</td>\n",
       "      <td>0.074502</td>\n",
       "      <td>5</td>\n",
       "    </tr>\n",
       "    <tr>\n",
       "      <th>sqft_basement</th>\n",
       "      <td>0.076586</td>\n",
       "      <td>0.067670</td>\n",
       "      <td>0.072315</td>\n",
       "      <td>0.063837</td>\n",
       "      <td>0.070102</td>\n",
       "      <td>6</td>\n",
       "    </tr>\n",
       "    <tr>\n",
       "      <th>sqft_lot</th>\n",
       "      <td>0.071790</td>\n",
       "      <td>0.066382</td>\n",
       "      <td>0.062460</td>\n",
       "      <td>0.065868</td>\n",
       "      <td>0.066625</td>\n",
       "      <td>7</td>\n",
       "    </tr>\n",
       "    <tr>\n",
       "      <th>view</th>\n",
       "      <td>0.060941</td>\n",
       "      <td>0.058304</td>\n",
       "      <td>0.059905</td>\n",
       "      <td>0.048826</td>\n",
       "      <td>0.056994</td>\n",
       "      <td>8</td>\n",
       "    </tr>\n",
       "    <tr>\n",
       "      <th>waterfront</th>\n",
       "      <td>0.009288</td>\n",
       "      <td>0.012665</td>\n",
       "      <td>0.006624</td>\n",
       "      <td>0.009387</td>\n",
       "      <td>0.009491</td>\n",
       "      <td>9</td>\n",
       "    </tr>\n",
       "  </tbody>\n",
       "</table>\n",
       "</div>"
      ],
      "text/plain": [
       "                scores2   scores3   scores4   scores5   average  rank\n",
       "feature                                                              \n",
       "sqft_living    0.363666  0.347219  0.348649  0.345850  0.351346     1\n",
       "sqft_above     0.267201  0.257956  0.254658  0.253678  0.258373     2\n",
       "bathrooms      0.216759  0.212257  0.203334  0.208796  0.210287     3\n",
       "floors         0.081687  0.081788  0.076211  0.072731  0.078104     4\n",
       "bedrooms       0.079127  0.064693  0.071998  0.082188  0.074502     5\n",
       "sqft_basement  0.076586  0.067670  0.072315  0.063837  0.070102     6\n",
       "sqft_lot       0.071790  0.066382  0.062460  0.065868  0.066625     7\n",
       "view           0.060941  0.058304  0.059905  0.048826  0.056994     8\n",
       "waterfront     0.009288  0.012665  0.006624  0.009387  0.009491     9"
      ]
     },
     "execution_count": 9,
     "metadata": {},
     "output_type": "execute_result"
    }
   ],
   "source": [
    "dfTotalScores = dfTotalScores.sort_values(\"average\", ascending=False)\n",
    "dfTotalScores['rank'] = np.arange(len(dfTotalScores))+1\n",
    "dfTotalScores"
   ]
  },
  {
   "cell_type": "markdown",
   "metadata": {},
   "source": [
    "Mutual information essentially measures the dependence of a feature to the actual ground truth, y. There are 3 possible scenarios: <br>\n",
    "1. The feature and response are completely independent. In other words, knowing a feature will provide you no information about y. Therefore, mutual information is 0.\n",
    "2. The feature and response are related with no source of error or randomness. For example, let's say y is the sale price, and x is the amount of candy bars you purchase. Obviously, the sale price is set at a fixed price, so you will always know the sale price given the amount of candy bars you purchase. In this case, mutual information is 1.\n",
    "3. The in between. Knowing x will allow you to gain some information about the response, y. In this case, mutual information is in between 0 and 1."
   ]
  },
  {
   "cell_type": "markdown",
   "metadata": {},
   "source": [
    "The power of mutual information comes from now being able to capture nonlinear dependencies. Click\n",
    "<a href=\"https://scikit-learn.org/stable/auto_examples/feature_selection/plot_f_test_vs_mi.html#sphx-glr-auto-examples-feature-selection-plot-f-test-vs-mi-py\">here</a> for detailed comparisons between F-Test and mutual information and \n",
    "<a href=\"https://scikit-learn.org/stable/modules/generated/sklearn.feature_selection.mutual_info_regression.html#sklearn.feature_selection.mutual_info_regression\">here</a> for documentation."
   ]
  },
  {
   "cell_type": "markdown",
   "metadata": {},
   "source": [
    "## Recursive Feature Elimination"
   ]
  },
  {
   "cell_type": "code",
   "execution_count": 10,
   "metadata": {
    "ExecuteTime": {
     "end_time": "2020-03-05T03:05:38.542817Z",
     "start_time": "2020-03-05T03:05:38.278842Z"
    }
   },
   "outputs": [
    {
     "name": "stderr",
     "output_type": "stream",
     "text": [
      "C:\\Users\\brand\\AppData\\Local\\Continuum\\miniconda3\\lib\\site-packages\\sklearn\\model_selection\\_split.py:667: UserWarning: The least populated class in y has only 1 members, which is less than n_splits=2.\n",
      "  % (min_groups, self.n_splits)), UserWarning)\n"
     ]
    },
    {
     "data": {
      "text/plain": [
       "RFECV(cv=StratifiedKFold(n_splits=2, random_state=None, shuffle=False),\n",
       "      estimator=LinearRegression(copy_X=True, fit_intercept=True, n_jobs=None,\n",
       "                                 normalize=False),\n",
       "      min_features_to_select=1, n_jobs=None, scoring=None, step=1, verbose=0)"
      ]
     },
     "execution_count": 10,
     "metadata": {},
     "output_type": "execute_result"
    }
   ],
   "source": [
    "mlr = LinearRegression()\n",
    "rfecv = RFECV(estimator=mlr, step=1, cv=StratifiedKFold(2))\n",
    "rfecv.fit(X_train, y_train)"
   ]
  },
  {
   "cell_type": "code",
   "execution_count": 11,
   "metadata": {
    "ExecuteTime": {
     "end_time": "2020-03-05T03:05:38.577861Z",
     "start_time": "2020-03-05T03:05:38.547834Z"
    }
   },
   "outputs": [
    {
     "data": {
      "text/html": [
       "<div>\n",
       "<style scoped>\n",
       "    .dataframe tbody tr th:only-of-type {\n",
       "        vertical-align: middle;\n",
       "    }\n",
       "\n",
       "    .dataframe tbody tr th {\n",
       "        vertical-align: top;\n",
       "    }\n",
       "\n",
       "    .dataframe thead th {\n",
       "        text-align: right;\n",
       "    }\n",
       "</style>\n",
       "<table border=\"1\" class=\"dataframe\">\n",
       "  <thead>\n",
       "    <tr style=\"text-align: right;\">\n",
       "      <th></th>\n",
       "      <th>bedrooms</th>\n",
       "      <th>bathrooms</th>\n",
       "      <th>sqft_living</th>\n",
       "      <th>sqft_lot</th>\n",
       "      <th>floors</th>\n",
       "      <th>waterfront</th>\n",
       "      <th>view</th>\n",
       "      <th>sqft_above</th>\n",
       "      <th>sqft_basement</th>\n",
       "    </tr>\n",
       "    <tr>\n",
       "      <th>id</th>\n",
       "      <th></th>\n",
       "      <th></th>\n",
       "      <th></th>\n",
       "      <th></th>\n",
       "      <th></th>\n",
       "      <th></th>\n",
       "      <th></th>\n",
       "      <th></th>\n",
       "      <th></th>\n",
       "    </tr>\n",
       "  </thead>\n",
       "  <tbody>\n",
       "    <tr>\n",
       "      <th>1836980160</th>\n",
       "      <td>4</td>\n",
       "      <td>2.50</td>\n",
       "      <td>2680</td>\n",
       "      <td>4499</td>\n",
       "      <td>2.0</td>\n",
       "      <td>0</td>\n",
       "      <td>0</td>\n",
       "      <td>2680</td>\n",
       "      <td>0</td>\n",
       "    </tr>\n",
       "    <tr>\n",
       "      <th>9221400335</th>\n",
       "      <td>4</td>\n",
       "      <td>1.75</td>\n",
       "      <td>2340</td>\n",
       "      <td>5080</td>\n",
       "      <td>1.0</td>\n",
       "      <td>0</td>\n",
       "      <td>0</td>\n",
       "      <td>1170</td>\n",
       "      <td>1170</td>\n",
       "    </tr>\n",
       "    <tr>\n",
       "      <th>6669020490</th>\n",
       "      <td>4</td>\n",
       "      <td>2.25</td>\n",
       "      <td>2190</td>\n",
       "      <td>9020</td>\n",
       "      <td>2.0</td>\n",
       "      <td>0</td>\n",
       "      <td>0</td>\n",
       "      <td>2190</td>\n",
       "      <td>0</td>\n",
       "    </tr>\n",
       "    <tr>\n",
       "      <th>2025079045</th>\n",
       "      <td>2</td>\n",
       "      <td>1.75</td>\n",
       "      <td>2260</td>\n",
       "      <td>280962</td>\n",
       "      <td>2.0</td>\n",
       "      <td>0</td>\n",
       "      <td>2</td>\n",
       "      <td>1890</td>\n",
       "      <td>370</td>\n",
       "    </tr>\n",
       "    <tr>\n",
       "      <th>1525069058</th>\n",
       "      <td>4</td>\n",
       "      <td>1.75</td>\n",
       "      <td>2110</td>\n",
       "      <td>265716</td>\n",
       "      <td>1.0</td>\n",
       "      <td>0</td>\n",
       "      <td>0</td>\n",
       "      <td>2110</td>\n",
       "      <td>0</td>\n",
       "    </tr>\n",
       "  </tbody>\n",
       "</table>\n",
       "</div>"
      ],
      "text/plain": [
       "            bedrooms  bathrooms  sqft_living  sqft_lot  floors  waterfront  \\\n",
       "id                                                                           \n",
       "1836980160         4       2.50         2680      4499     2.0           0   \n",
       "9221400335         4       1.75         2340      5080     1.0           0   \n",
       "6669020490         4       2.25         2190      9020     2.0           0   \n",
       "2025079045         2       1.75         2260    280962     2.0           0   \n",
       "1525069058         4       1.75         2110    265716     1.0           0   \n",
       "\n",
       "            view  sqft_above  sqft_basement  \n",
       "id                                           \n",
       "1836980160     0        2680              0  \n",
       "9221400335     0        1170           1170  \n",
       "6669020490     0        2190              0  \n",
       "2025079045     2        1890            370  \n",
       "1525069058     0        2110              0  "
      ]
     },
     "execution_count": 11,
     "metadata": {},
     "output_type": "execute_result"
    }
   ],
   "source": [
    "X_train = X_train[X_train.columns[rfecv.support_]]\n",
    "X_train.head()"
   ]
  },
  {
   "cell_type": "markdown",
   "metadata": {},
   "source": [
    "Recursive feature elimination works in a similar fashion to backwards elimination, but not entirely. The aim of this method is to select features by recursively selecting smaller and smaller sets of features. In the first pass, the estimator, in this case Linear Regression model, runs with all of the features. It then analyzes the importance of each feature by its coef_ attribute, and features are pruned (removed) until the optimal number of features is met through cross validation. In our example above, none of the features are removed, which makes sense since we have a small number of features, and they're all highly significant as we saw in the F-test screening."
   ]
  },
  {
   "cell_type": "markdown",
   "metadata": {},
   "source": [
    "## Lasso Regression"
   ]
  },
  {
   "cell_type": "markdown",
   "metadata": {},
   "source": [
    "$\n",
    "\\newcommand\\norm[1]{\\left\\lVert#1\\right\\rVert}\n",
    "$\n",
    "Recall the loss function and optimization problem for multiple linear regression.\n",
    "$$\n",
    "\\begin{align}\n",
    "\\min_\\hat{\\beta} \\norm{y-X\\hat{\\beta}}_2^2\n",
    "\\end{align}\n",
    "$$\n",
    "Linear regression, like any other model, can be susceptible to a pitfall known as *overfitting.* This concept is described in much more detail in additional software notes <a href=\"https://brandonbks.github.io/static/concepts.pdf\">here</a>. In linear regression, overfitting can occur where the $\\hat{\\beta}$'s can become extremely large, causing our model to have high variance. One cause of overfitting is having too large of a feature space relative to the number of data points (curse of dimensionality), which is also described in the software notes linked, and we will attempt to combat this with Lasso Regression.\n",
    "\n",
    "<img src=\"https://i.stack.imgur.com/HGfzU.png\" style=\"height:300px\"></img>\n",
    "Pay attention to the green dots, which is what the regression model was trained on. The red line plots the regression equation using just ordinary least squares, and you can see that the regression equation is highly overfitting and does not generalize well with they yellow (validation) points. In other words, if this regression model was used to predict future observations, it would perform terribly, and you can visualize this with the yellow points. The other lines, using Lasso Regression, perform much better against the validation points, as you can see it fits the yellow points far better.\n",
    "<br>\n",
    "<br>\n",
    "In this case you can see that small perturbations in input values can cause dramatic changes in the output value, which means that the solution is not stable (i.e high variance). You can see this in the red line above -- if you move slightly in one direction, especially from 0.8 to 0.9, there can be a dramatic change in the predicted value. Similarly, when you have features that are highly correlated, linear regression models will tend to overfit. \n",
    "<br>\n",
    "<br>\n",
    "In order to avoid this case, there are two altnerative methods: Ridge and Lasso Regression. However, we will only focus on Lasso Regression for these software notes, as it is more related to variable selection, whereas Ridge Regression is more suited for dealing with multicollinearity."
   ]
  },
  {
   "cell_type": "markdown",
   "metadata": {},
   "source": [
    "Let's first detail the constrained optimization problem for Lasso Regression:\n",
    "$$\n",
    "\\begin{align}\n",
    "\\min_\\hat{\\beta}& \\norm{y-X\\hat{\\beta}}_2^2  \\\\\n",
    "s.t. & \\norm{\\hat{\\beta}}_1 \\leq s \\\\\n",
    "\\end{align}\n",
    "$$\n",
    "\n",
    "We can use Lagrangian multipliers to incorporate the constraint into the objective function. \n",
    "\n",
    "$$\n",
    "\\begin{align}\n",
    "\\min_\\hat{\\beta} \\norm{y-X\\hat{\\beta}}_2^2 + \\lambda \\sum_{k=1}^K |\\hat{\\beta}_k|\n",
    "\\end{align}\n",
    "$$\n",
    "Note that the first term in the objective function is to minimize the sum of square errors, which is identical to the term in the objective function for multiple linear regression. However, in order to control the size of the coefficients, we add a penalization term on the coefficients. Note that this is equivalent to the L1-norm. Refer to software notes 4 for the definition of a norm <a href=\"https://brandonbks.github.io/static/sn4.html\">here</a>. Therefore, the objective function will ensure that the coefficients will not become too large and reduce the variance of our model since they are penalized in the objective function, but the L1-norm also does something interesting with the coefficients."
   ]
  },
  {
   "cell_type": "markdown",
   "metadata": {},
   "source": [
    "Due to the geometry of the L1-norm, Lasso Regression shrinks some of the coefficients down to 0. Note that if the beta coefficient is zero, this means that the particular feature (or interaction of features) will not be significant and does not affect the output. Let's visualize the geometry of the L1-norm where we have 2 $\\hat{\\beta}$'s.\n",
    "<img src=\"https://www.rstatisticsblog.com/images/regression/lasso.jpg\"  style=\"height:300px\">"
   ]
  },
  {
   "cell_type": "markdown",
   "metadata": {},
   "source": [
    "We can visualize from above the OLS estimate if we just minimized the sum of squared errors as $\\hat{\\beta}$. Due to the additional constraint of the $\\beta$ terms, the feasible set of solutions lie within the diamond region. The contours above represent the loss function, and you should note that for the optimal case (i.e when the contour first hits the feasible region), the contour will only hit at one of the verticies of the diamond. From this geometric viewpoint, you should be able to see that one of the $\\beta$'s is forced to 0 (namely, $\\beta_1$), whereas $\\beta_2$ is non-zero. Because of the geometric nature of the L1-norm, Lasso Regression can also be a variable selection method. Since it forces some $\\beta$'s to zero, you can find which features are not significant and do not affect the overall model while also minimizing overfitting compared to OLS."
   ]
  },
  {
   "cell_type": "markdown",
   "metadata": {},
   "source": [
    "Few notes:\n",
    "1. The size of $\\lambda$ controls model complexity. The larger the value of $\\lambda$, the more it restricts the parameters (since it penalizes the objective function more). Choose $\\lambda$ through cross validation.\n",
    "2. Do not use Lasso Regression when your model is suffering from multicollinearity. Ridge Regression should be used instead."
   ]
  },
  {
   "cell_type": "code",
   "execution_count": 12,
   "metadata": {
    "ExecuteTime": {
     "end_time": "2020-03-05T03:05:38.902811Z",
     "start_time": "2020-03-05T03:05:38.581899Z"
    }
   },
   "outputs": [],
   "source": [
    "scaler = StandardScaler()\n",
    "X_train_standard = scaler.fit_transform(X_train)\n",
    "reg = LassoCV(cv = 5).fit(X_train_standard, y_train)"
   ]
  },
  {
   "cell_type": "code",
   "execution_count": 13,
   "metadata": {
    "ExecuteTime": {
     "end_time": "2020-03-05T03:05:38.914842Z",
     "start_time": "2020-03-05T03:05:38.905751Z"
    }
   },
   "outputs": [
    {
     "name": "stdout",
     "output_type": "stream",
     "text": [
      "bedrooms  for Beta_ 1  =  -40541.01039716413\n",
      "bathrooms  for Beta_ 2  =  5519.98245096863\n",
      "sqft_living  for Beta_ 3  =  255061.66301448777\n",
      "sqft_lot  for Beta_ 4  =  -14552.196182652677\n",
      "floors  for Beta_ 5  =  4144.11955991439\n",
      "waterfront  for Beta_ 6  =  42292.440671644916\n",
      "view  for Beta_ 7  =  56666.25645653237\n",
      "sqft_above  for Beta_ 8  =  0.0\n",
      "sqft_basement  for Beta_ 9  =  0.0\n",
      "intercept is 537729.2636658074\n"
     ]
    }
   ],
   "source": [
    "for ind, col in enumerate(X_train.columns):\n",
    "    print(col, \" for Beta_\", ind+1, \" = \", reg.coef_[ind])\n",
    "print(\"intercept is\", reg.intercept_)"
   ]
  },
  {
   "cell_type": "markdown",
   "metadata": {},
   "source": [
    "From the above equation, we can see that sqft_above and sqft_basement $\\beta$ coefficients are 0, so they do not affect the output. One important note is that we need to standardize our data when using Lasso regression. Note that the constraint in the original optimization function is dependent on the magnitude of each variable, so it's necessary to standardize the variables."
   ]
  },
  {
   "cell_type": "markdown",
   "metadata": {},
   "source": [
    "## Other Methods..."
   ]
  },
  {
   "cell_type": "markdown",
   "metadata": {},
   "source": [
    "There are definitely other popular methods in reducing the dimensionality of a dataset. Although we won't go into them here, you can run PCA (principal components analysis), which essentially attempts to find directions of maximum variance by taking linear combinations of features and reducing the dimensionality of the dataset. This is particularly good when there are some correlations between features.\n",
    "<br>\n",
    "<br>\n",
    "Another popular method is to run some tree-based regression model (such as Random Forest or Gradient Boosting) on your dataset and output feature importance values. These feature importance values are derived from the amount of times a feature was split on when creating the tree. If a feature has very low feature importance, it may be a good idea to remove the feature.\n",
    "<br>\n",
    "<br>\n",
    "Although these two methods are popular and powerful, we won't go over them here. I will delve into them deeper in a separate software notes dedicated to more Machine Learning methods!"
   ]
  }
 ],
 "metadata": {
  "kernelspec": {
   "display_name": "Python 3",
   "language": "python",
   "name": "python3"
  },
  "language_info": {
   "codemirror_mode": {
    "name": "ipython",
    "version": 3
   },
   "file_extension": ".py",
   "mimetype": "text/x-python",
   "name": "python",
   "nbconvert_exporter": "python",
   "pygments_lexer": "ipython3",
   "version": "3.7.4"
  },
  "toc": {
   "base_numbering": 1,
   "nav_menu": {},
   "number_sections": true,
   "sideBar": true,
   "skip_h1_title": false,
   "title_cell": "Table of Contents",
   "title_sidebar": "Contents",
   "toc_cell": false,
   "toc_position": {},
   "toc_section_display": true,
   "toc_window_display": false
  }
 },
 "nbformat": 4,
 "nbformat_minor": 2
}
